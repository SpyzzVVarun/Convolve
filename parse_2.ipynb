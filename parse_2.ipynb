{
 "cells": [
  {
   "cell_type": "code",
   "execution_count": 1,
   "metadata": {},
   "outputs": [],
   "source": [
    "#Basic Imports\n",
    "import pandas as pd\n",
    "import warnings\n",
    "import time\n",
    "warnings.filterwarnings('ignore')\n",
    "\n",
    "# Web Scraping and parsing\n",
    "from selenium import webdriver\n",
    "from selenium.webdriver.chrome.service import Service as BraveService\n",
    "from webdriver_manager.chrome import ChromeDriverManager\n",
    "from webdriver_manager.core.utils import ChromeType\n",
    "from selenium.webdriver.common.keys import Keys\n",
    "from selenium.webdriver.common.by import By\n"
   ]
  },
  {
   "cell_type": "code",
   "execution_count": 2,
   "metadata": {},
   "outputs": [],
   "source": [
    "options = webdriver.ChromeOptions()\n",
    "options.add_argument(\"--start-maximized\")\n",
    "options.add_argument('--log-level=3')\n",
    "\n",
    "prefs = {\"download.default_directory\" : \"/home/guest/dbms/co_author\"}\n",
    "options.add_experimental_option(\"prefs\",prefs)\n",
    "\n",
    "# Create new automated instance of Chrome\n",
    "driver = webdriver.Chrome(executable_path=\"chromedriver\", chrome_options=options)"
   ]
  },
  {
   "cell_type": "code",
   "execution_count": 3,
   "metadata": {},
   "outputs": [],
   "source": [
    "# Get the faculty names\n",
    "page_links = ['https://iitg.ac.in/dsai/faculty', 'https://iitg.ac.in/dsai/assoc_faculty_list']\n",
    "            #    'https://iitg.ac.in/dsai/distinguished_faculty']\n",
    "names = []\n",
    "# Get the faculty table\n",
    "for link in ['https://iitg.ac.in/dsai/head']:\n",
    "    driver.get(link)\n",
    "    table = driver.find_element(By.XPATH, '//*[@id=\"head_table\"]')\n",
    "    name = \" \".join(table.find_element(By.XPATH, f'//*[@id=\"head_table\"]/tbody/tr[1]/td[2]').text.split(\"\\n\")[1].split(\".\")[1:]).lstrip().strip()\n",
    "    names.append(name)\n",
    "\n",
    "for link in page_links:\n",
    "    driver.get(link)\n",
    "    table = driver.find_element(By.XPATH, '//*[@id=\"assoc_fac_table\"]')\n",
    "    for row in range(len(table.find_elements(By.XPATH, '//*[@id=\"assoc_fac_table\"]/tbody/tr'))):\n",
    "        name = \" \".join(table.find_element(By.XPATH, f'//*[@id=\"assoc_fac_table\"]/tbody/tr[{row+1}]/td[2]').text.split(\"\\n\")[0].split(\".\")[1:]).lstrip().strip()\n",
    "        names.append(name)\n",
    "\n"
   ]
  },
  {
   "cell_type": "code",
   "execution_count": 4,
   "metadata": {},
   "outputs": [],
   "source": [
    "# Reaching the faculty irins page\n",
    "faculty_links = []\n",
    "for name in names:\n",
    "    link = \"https://iitg.irins.org/\"\n",
    "    driver.get(link)\n",
    "\n",
    "    # Find the search box and enter the researcher's name\n",
    "    search_box = driver.find_element(By.XPATH, '//*[@id=\"title\"]')\n",
    "    search_box.send_keys(name)\n",
    "\n",
    "    # Submit the search query\n",
    "    search_box.submit()\n",
    "\n",
    "    # Wait for the search results to load\n",
    "    driver.implicitly_wait(10)\n",
    "\n",
    "    exact_search = driver.find_element(By.XPATH, '/html/body/div[1]/div[1]/div[3]/div/div/form/div/div[1]/div/div/div[2]/span[2]/input')\n",
    "    exact_search.click()\n",
    "\n",
    "    search = driver.find_element(By.XPATH, '//*[@id=\"search\"]')\n",
    "    search.click()\n",
    "\n",
    "    # Wait for the search results to load\n",
    "    driver.implicitly_wait(10)\n",
    "\n",
    "    # Click on the first search result to go to the researcher's page\n",
    "    faculty_link = driver.find_element(By.XPATH, '/html/body/div[1]/div[1]/div[3]/div/div/form/div/div[3]/div/div[3]/div/div/div[2]/div/a').get_attribute('href')\n",
    "\n",
    "    # Wait for the researcher's page to load\n",
    "    driver.implicitly_wait(10)\n",
    "\n",
    "    faculty_links.append(faculty_link)\n"
   ]
  },
  {
   "cell_type": "code",
   "execution_count": 59,
   "metadata": {},
   "outputs": [
    {
     "data": {
      "text/plain": [
       "True"
      ]
     },
     "execution_count": 59,
     "metadata": {},
     "output_type": "execute_result"
    }
   ],
   "source": [
    "len(faculty_links) == len(names)"
   ]
  },
  {
   "cell_type": "code",
   "execution_count": 72,
   "metadata": {},
   "outputs": [],
   "source": [
    "SCROLL_PAUSE_TIME = 0.5\n",
    "\n",
    "for idx, link in enumerate(faculty_links):\n",
    "    driver.get(link)\n",
    "    # Get scroll height\n",
    "    last_height = driver.execute_script(\"return document.body.scrollHeight\")\n",
    "\n",
    "    while True:\n",
    "        # Scroll down to bottom\n",
    "        driver.execute_script(\"window.scrollTo(0, document.body.scrollHeight);\")\n",
    "\n",
    "        # Wait to load page\n",
    "        time.sleep(SCROLL_PAUSE_TIME)\n",
    "\n",
    "        # Calculate new scroll height and compare with last scroll height\n",
    "        new_height = driver.execute_script(\"return document.body.scrollHeight\")\n",
    "        if new_height == last_height:\n",
    "            break\n",
    "        last_height = new_height\n",
    "    DOIs = [ele.text for ele in driver.find_elements(By.XPATH, '//*[@title=\"Doi Link\"]')]\n",
    "    titles = [ele.text for ele in driver.find_elements(By.XPATH, '//*[@class=\"row\"]/h2')]\n",
    "    data = dict(zip(titles, DOIs))\n",
    "    DOIs_data = pd.DataFrame.from_dict(data, orient = 'index').reset_index()\n",
    "    DOIs_data.columns = ['Titles', 'DOIs']\n",
    "    name = \"_\".join(names[idx].split(\" \"))\n",
    "    DOIs_data.to_csv(f'DOI_data/{name}.csv', index = False)"
   ]
  },
  {
   "cell_type": "code",
   "execution_count": 11,
   "metadata": {},
   "outputs": [
    {
     "ename": "FileNotFoundError",
     "evalue": "[Errno 2] No such file or directory: '/home/guest/dbms/co_author/coauthor_128315.csv' -> '/home/guest/dbms/co_author/Ratnajit_Bhattacharjee.csv'",
     "output_type": "error",
     "traceback": [
      "\u001b[0;31m---------------------------------------------------------------------------\u001b[0m",
      "\u001b[0;31mFileNotFoundError\u001b[0m                         Traceback (most recent call last)",
      "Cell \u001b[0;32mIn[11], line 10\u001b[0m\n\u001b[1;32m      8\u001b[0m \u001b[39m# destination file path\u001b[39;00m\n\u001b[1;32m      9\u001b[0m dest \u001b[39m=\u001b[39m \u001b[39mf\u001b[39m\u001b[39m'\u001b[39m\u001b[39m/home/guest/dbms/co_author/\u001b[39m\u001b[39m{\u001b[39;00mname\u001b[39m}\u001b[39;00m\u001b[39m.csv\u001b[39m\u001b[39m'\u001b[39m\n\u001b[0;32m---> 10\u001b[0m os\u001b[39m.\u001b[39;49mrename(source, dest)\n",
      "\u001b[0;31mFileNotFoundError\u001b[0m: [Errno 2] No such file or directory: '/home/guest/dbms/co_author/coauthor_128315.csv' -> '/home/guest/dbms/co_author/Ratnajit_Bhattacharjee.csv'"
     ]
    }
   ],
   "source": [
    "import os\n",
    "for idx, link in enumerate(faculty_links):\n",
    "    id = link.split(\"/\")[-1]\n",
    "    name = \"_\".join(names[idx].split(\" \"))\n",
    "    driver.get(f\"https://iitg.irins.org/assets/files/coauthor_{id}.csv\")\n",
    "    # Source file path\n",
    "    source = f'/home/guest/dbms/co_author/coauthor_{id}.csv'\n",
    "    # destination file path\n",
    "    dest = f'/home/guest/dbms/co_author/{name}.csv'\n",
    "    os.rename(source, dest)\n"
   ]
  },
  {
   "cell_type": "code",
   "execution_count": null,
   "metadata": {},
   "outputs": [],
   "source": []
  }
 ],
 "metadata": {
  "kernelspec": {
   "display_name": "Python 3",
   "language": "python",
   "name": "python3"
  },
  "language_info": {
   "codemirror_mode": {
    "name": "ipython",
    "version": 3
   },
   "file_extension": ".py",
   "mimetype": "text/x-python",
   "name": "python",
   "nbconvert_exporter": "python",
   "pygments_lexer": "ipython3",
   "version": "3.10.6"
  },
  "orig_nbformat": 4
 },
 "nbformat": 4,
 "nbformat_minor": 2
}
