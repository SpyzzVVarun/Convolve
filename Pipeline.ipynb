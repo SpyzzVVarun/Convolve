{
 "cells": [
  {
   "cell_type": "markdown",
   "id": "2aa07b14",
   "metadata": {},
   "source": [
    "## Importing Libraries"
   ]
  },
  {
   "cell_type": "code",
   "execution_count": 1,
   "id": "86175548",
   "metadata": {},
   "outputs": [],
   "source": [
    "#Basic Imports\n",
    "import pandas as pd\n",
    "import warnings\n",
    "warnings.filterwarnings('ignore')\n",
    "from tqdm import tqdm\n",
    "\n",
    "#Text Preprocessing\n",
    "import re\n",
    "import json\n",
    "from json2html import *\n",
    "\n",
    "# Web Scraping and parsing\n",
    "from selenium import webdriver\n",
    "from selenium.webdriver.chrome.service import Service as BraveService\n",
    "from webdriver_manager.chrome import ChromeDriverManager\n",
    "from webdriver_manager.core.utils import ChromeType\n",
    "from selenium.webdriver.common.keys import Keys\n",
    "from selenium.webdriver.common.by import By"
   ]
  },
  {
   "cell_type": "markdown",
   "id": "1f5e3678",
   "metadata": {},
   "source": [
    "## Setting up Selenium Webdriver"
   ]
  },
  {
   "cell_type": "markdown",
   "id": "db4d71ae",
   "metadata": {},
   "source": [
    "### Brave"
   ]
  },
  {
   "cell_type": "code",
   "execution_count": 2,
   "id": "435d2395",
   "metadata": {},
   "outputs": [],
   "source": [
    "# Define Brave path\n",
    "brave_path = \"C:/Program Files/BraveSoftware/Brave-Browser/Application/brave.exe\"\n",
    "options = webdriver.ChromeOptions()\n",
    "options.binary_location = brave_path\n",
    "\n",
    "# Create new automated instance of Brave\n",
    "driver = webdriver.Chrome(service=BraveService(ChromeDriverManager(chrome_type=ChromeType.BRAVE).install()),options = options)"
   ]
  },
  {
   "cell_type": "markdown",
   "id": "06e78ee6",
   "metadata": {},
   "source": [
    "### Chrome"
   ]
  },
  {
   "cell_type": "code",
   "execution_count": 3,
   "id": "ac52adb7",
   "metadata": {},
   "outputs": [],
   "source": [
    "# options = webdriver.ChromeOptions()\n",
    "# options.add_argument(\"--start-maximized\")\n",
    "# options.add_argument('--log-level=3'\n",
    "\n",
    "# # Create new automated instance of Chrome\n",
    "# driver = webdriver.Chrome(executable_path=\"chromedriver\", chrome_options=options)"
   ]
  },
  {
   "cell_type": "markdown",
   "id": "37a665ec",
   "metadata": {},
   "source": [
    "## Functions to collect links to all the landing pages"
   ]
  },
  {
   "cell_type": "code",
   "execution_count": 4,
   "id": "d1dd8ed1",
   "metadata": {},
   "outputs": [],
   "source": [
    "black_listed = ['http://www.cisco.com/c/en/us/td/docs/general/whatsnew/whatsnew.html', 'http://www.cisco.com/go/cfn',\n",
    "                'https://cfnng.cisco.com/', 'https://tools.cisco.com/Support/CLILookup', \n",
    "                'https://www.cisco.com/c/en/us/td/docs/ios-xml/ios/mcl/allreleasemcl/all-book.html']\n",
    "\n",
    "def search_page(link, landing_links):\n",
    "    if link != None: driver.get(link)\n",
    "    further_links = []\n",
    "    try:\n",
    "        page_search_area = driver.find_element(By.ID, \"pageContentDiv\")\n",
    "        psa = page_search_area.find_elements(By.TAG_NAME, \"a\")\n",
    "        for lin in psa:\n",
    "            lnk = lin.get_attribute(\"href\")\n",
    "            if lnk != link and (lnk != None) and not (lnk in black_listed) and not('#' in lnk) and not(lnk in landing_links):\n",
    "                further_links.append(lnk)\n",
    "    except:\n",
    "        pass\n",
    "        \n",
    "    try:\n",
    "        s1 = driver.find_element(By.TAG_NAME, \"tr\")\n",
    "        switch_term = s1.find_elements(By.XPATH, \"//*[contains(translate(text(), 'ABCDEFGHIJKLMNOPQRSTUVWXYZ', 'abcdefghijklmnopqrstuvwxyz'), 'step')]\")\n",
    "    except:\n",
    "        switch_term = []\n",
    "        \n",
    "    if(switch_term):\n",
    "        landing_page = True\n",
    "    else:\n",
    "        landing_page = False\n",
    "    \n",
    "    \n",
    "    return landing_page, further_links\n",
    "\n",
    "\n",
    "def get_landing_links(start_page_link):\n",
    "\n",
    "    index_links = []\n",
    "    landing_page_links = []\n",
    "    index_links.append(start_page_link)\n",
    "\n",
    "    while(True):\n",
    "\n",
    "        new_links = []\n",
    "        for link in index_links:\n",
    "            landing_page, further_links = search_page(link, landing_page_links)\n",
    "            \n",
    "            if(landing_page):\n",
    "                landing_page_links.append(link)\n",
    "            else:\n",
    "                 new_links += further_links\n",
    "\n",
    "        index_links = new_links.copy()\n",
    "\n",
    "\n",
    "        if(len(index_links) == 0):\n",
    "            break\n",
    "\n",
    "    return landing_page_links"
   ]
  },
  {
   "cell_type": "markdown",
   "id": "7f64c7b9",
   "metadata": {},
   "source": [
    "## Parsing Function to scrape the landing pages"
   ]
  },
  {
   "cell_type": "code",
   "execution_count": 10,
   "id": "2375cef0",
   "metadata": {},
   "outputs": [],
   "source": [
    "def parsePage(links):\n",
    "    feature_configs = dict()\n",
    "\n",
    "    for link in links:\n",
    "        driver.get(link)\n",
    "        elements = driver.find_elements(By.XPATH, \"//*[contains(translate(text(), 'ABCDEFGHIJKLMNOPQRSTUVWXYZ', 'abcdefghijklmnopqrstuvwxyz'), 'summary steps')]\")\n",
    "        if (len(elements)):\n",
    "            for element in elements:\n",
    "                headings = []\n",
    "                for i in range(1,7):\n",
    "                    try:\n",
    "                        headings.append(element.find_element(By.XPATH, f\"./preceding::h{i}[1]\").location[\"y\"])\n",
    "                    except:\n",
    "                        pass\n",
    "                idx = headings.index(max(headings))+1\n",
    "                heading = element.find_element(By.XPATH, f\"./preceding::h{idx}[1]\")\n",
    "                while ('procedure' in heading.text.lower() or 'before' in heading.text.lower()):\n",
    "                    try:\n",
    "                        headings[idx-1] = heading.find_element(By.XPATH, f\"./preceding::h{idx}[1]\").location[\"y\"]\n",
    "                    except:\n",
    "                        headings[idx-1] = -1\n",
    "                    idx = headings.index(max(headings))+1\n",
    "                    heading = heading.find_element(By.XPATH, f\"./preceding::h{idx}[1]\")\n",
    "                ol = element.find_element(By.XPATH, \"./following-sibling::ol[1]\") #assumption\n",
    "                lis = ol.find_elements(By.CSS_SELECTOR, \"li\")\n",
    "                feature_configs[heading.text] = [li.text for li in lis]\n",
    "                # if (ol.text.split('\\n')[-1] == ol.text.split('\\n')[-2]):\n",
    "                #     feature_configs[heading.text] = ol.text.split('\\n')[:-1]\n",
    "                # else:\n",
    "                #     feature_configs[heading.text] = ol.text.split('\\n')\n",
    "        else:\n",
    "            elements = driver.find_elements(By.CSS_SELECTOR, \"table\")\n",
    "            if (len(elements)):\n",
    "                for element in elements:\n",
    "                    headings = []\n",
    "                    for i in range(1,7):\n",
    "                        try:\n",
    "                            headings.append(element.find_element(By.XPATH, f\"./preceding::h{i}[1]\").location[\"y\"])\n",
    "                        except:\n",
    "                            pass\n",
    "                    idx = headings.index(max(headings))+1\n",
    "                    heading = element.find_element(By.XPATH, f\"./preceding::h{idx}[1]\")\n",
    "                    while ('procedure' in heading.text.lower() or 'before' in heading.text.lower()):\n",
    "                        try:\n",
    "                            headings[idx-1] = heading.find_element(By.XPATH, f\"./preceding::h{idx}[1]\").location[\"y\"]\n",
    "                        except:\n",
    "                            headings[idx-1] = -1\n",
    "                        idx = headings.index(max(headings))+1\n",
    "                        heading = heading.find_element(By.XPATH, f\"./preceding::h{idx}[1]\")\n",
    "\n",
    "                    if element.get_attribute(\"outerHTML\").lower().count('step') >= 3:\n",
    "                        lst = []\n",
    "                        for row in element.find_elements(By.CSS_SELECTOR, \"tr\")[1:]:\n",
    "                            if row.text.lower().split(' ')[0] == 'note':\n",
    "                                continue\n",
    "                            string = row.find_elements(By.CSS_SELECTOR, \"td\")[1].text.lower()\n",
    "                            word = \"example\"\n",
    "                            result = string.split(word)[0]\n",
    "                            lst.append(re.sub(\"\\n\", \"\", result))\n",
    "                        feature_configs[heading.text] = lst\n",
    "\n",
    "    return feature_configs"
   ]
  },
  {
   "cell_type": "markdown",
   "id": "5d331f49",
   "metadata": {},
   "source": [
    "## Final Pipeline\n",
    "\n",
    "We have 2 methods to update the database, we can either use the link of the config guide (which is essentially a book that leads to several landing pages) or directly use the link of the landing page"
   ]
  },
  {
   "cell_type": "code",
   "execution_count": 11,
   "id": "c7922c19",
   "metadata": {},
   "outputs": [],
   "source": [
    "# CONFIG GUIDE METHOD\n",
    "# url = \"\" #Link to a config guide\n",
    "# links = get_landing_links(url)\n",
    "\n",
    "# lANDING PAGE METHOD\n",
    "url = \"https://www.cisco.com/c/en/us/td/docs/switches/lan/catalyst9400/software/release/16-6/configuration_guide/ip/b_166_ip_9400_cg/b_165_ip_9300_9500_cg_chapter_00.html\" #Link to a landing page\n",
    "links = [url]\n",
    "\n",
    "feature_configs = parsePage(links)"
   ]
  },
  {
   "cell_type": "code",
   "execution_count": 14,
   "id": "4cda3aca",
   "metadata": {},
   "outputs": [],
   "source": [
    "json_object = json.dumps(feature_configs, indent = 4) \n",
    "html_code = json2html.convert(json = json_object)\n",
    "with open(\"example.html\", \"w\") as f:\n",
    "    f.write(html_code)\n",
    "    f.close()\n",
    "    \n",
    "with open(\"example.json\", \"w\") as f:\n",
    "    f.write(json_object)\n",
    "    f.close()"
   ]
  }
 ],
 "metadata": {
  "kernelspec": {
   "display_name": "Python 3 (ipykernel)",
   "language": "python",
   "name": "python3"
  },
  "language_info": {
   "codemirror_mode": {
    "name": "ipython",
    "version": 3
   },
   "file_extension": ".py",
   "mimetype": "text/x-python",
   "name": "python",
   "nbconvert_exporter": "python",
   "pygments_lexer": "ipython3",
   "version": "3.9.7"
  }
 },
 "nbformat": 4,
 "nbformat_minor": 5
}
